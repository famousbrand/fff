{
 "cells": [
  {
   "cell_type": "markdown",
   "id": "50c5d15d-d924-44e8-aa02-a9afc800bbaf",
   "metadata": {},
   "source": [
    "Object Identity"
   ]
  },
  {
   "cell_type": "code",
   "execution_count": 1,
   "id": "cdf2c4aa-4d95-47d7-8224-fbb465cb87a1",
   "metadata": {},
   "outputs": [
    {
     "name": "stdout",
     "output_type": "stream",
     "text": [
      "140720471722312\n"
     ]
    }
   ],
   "source": [
    "a = 50  \n",
    "#b = a  \n",
    "print(id(a))  \n",
    "#print(id(b))  \n",
    "# Reassigned variable a  \n",
    "#a = 500  \n",
    "#print(id(a))  "
   ]
  },
  {
   "cell_type": "markdown",
   "id": "3345b82d-b0e8-4a93-8b09-5dd6afe2272b",
   "metadata": {},
   "source": [
    "Multiple Assignment"
   ]
  },
  {
   "cell_type": "code",
   "execution_count": 5,
   "id": "bd54a73f-40ce-414d-b1ae-721a9f302316",
   "metadata": {},
   "outputs": [
    {
     "name": "stdout",
     "output_type": "stream",
     "text": [
      "50\n",
      "50\n",
      "50\n"
     ]
    }
   ],
   "source": [
    "# Assigning single value to multiple variables\n",
    "x=y=z=w=50    \n",
    "print(x)    \n",
    "print(y)    \n",
    "print(z)   "
   ]
  },
  {
   "cell_type": "code",
   "execution_count": 9,
   "id": "7b45c9b1-f10c-44a2-a498-83465637a36a",
   "metadata": {},
   "outputs": [
    {
     "name": "stdout",
     "output_type": "stream",
     "text": [
      "5\n",
      "10\n",
      "15\n"
     ]
    }
   ],
   "source": [
    "#2. Assigning multiple values to multiple variables:\n",
    "a,b,c=5,10,15    \n",
    "print (a)    \n",
    "print (b)    \n",
    "print (c)    "
   ]
  },
  {
   "cell_type": "markdown",
   "id": "788bffff-50fb-462c-8ccb-05b46bc402ac",
   "metadata": {},
   "source": [
    "Python Variable Types"
   ]
  },
  {
   "cell_type": "markdown",
   "id": "2c0f9156-9013-4dce-9244-aee647cf73c7",
   "metadata": {},
   "source": [
    "There are two types of variables in Python - Local variable and Global variable."
   ]
  },
  {
   "cell_type": "markdown",
   "id": "f5db9db0-001c-42b9-9b39-1f1289ff0b55",
   "metadata": {},
   "source": [
    "Local Variable"
   ]
  },
  {
   "cell_type": "code",
   "execution_count": 14,
   "id": "a550685a-7172-4f33-8cc2-99ab6b370c85",
   "metadata": {},
   "outputs": [],
   "source": [
    "#The variables that are declared within the function and have scope within the function are known as local variables.\n",
    "#Let's examine the following illustration."
   ]
  },
  {
   "cell_type": "code",
   "execution_count": 1,
   "id": "0d0b58b2-9fa6-4211-b50b-36d24a6764ec",
   "metadata": {},
   "outputs": [
    {
     "name": "stdout",
     "output_type": "stream",
     "text": [
      "The sum is: 50\n"
     ]
    }
   ],
   "source": [
    "# Declaring a function  \n",
    "def add():  \n",
    "    # Defining local variables. They has scope only within a function  \n",
    "    a = 20  \n",
    "    b = 30  \n",
    "    c = a + b  \n",
    "    print(\"The sum is:\", c)  \n",
    "  \n",
    "# Calling a function  \n",
    "add()  "
   ]
  },
  {
   "cell_type": "markdown",
   "id": "1e61a296-aef0-4ab1-b519-ebff33716628",
   "metadata": {},
   "source": [
    "Global Variables"
   ]
  },
  {
   "cell_type": "code",
   "execution_count": 19,
   "id": "01118072-2924-40fa-bf35-d1a961cab9b8",
   "metadata": {},
   "outputs": [
    {
     "name": "stdout",
     "output_type": "stream",
     "text": [
      "101\n",
      "Welcome To Javatpoint\n",
      "Welcome To Javatpoint\n"
     ]
    }
   ],
   "source": [
    "# Declare a variable and initialize it  \n",
    "x = 101  \n",
    "  \n",
    "# Global variable in function  \n",
    "def mainFunction():  \n",
    "    # printing a global variable  \n",
    "    global x  \n",
    "    print(x)  \n",
    "    # modifying a global variable  \n",
    "    x = 'Welcome To Javatpoint'  \n",
    "    print(x)  \n",
    "  \n",
    "mainFunction()  \n",
    "print(x)  "
   ]
  },
  {
   "cell_type": "markdown",
   "id": "987d3404-245e-4888-97cf-5fa8121e064b",
   "metadata": {},
   "source": [
    "Delete a variable"
   ]
  },
  {
   "cell_type": "code",
   "execution_count": 22,
   "id": "59b9ba9f-25ab-48c8-a233-b96858599b4e",
   "metadata": {},
   "outputs": [
    {
     "name": "stdout",
     "output_type": "stream",
     "text": [
      "6\n"
     ]
    },
    {
     "ename": "NameError",
     "evalue": "name 'x' is not defined",
     "output_type": "error",
     "traceback": [
      "\u001b[1;31m---------------------------------------------------------------------------\u001b[0m",
      "\u001b[1;31mNameError\u001b[0m                                 Traceback (most recent call last)",
      "Cell \u001b[1;32mIn[22], line 6\u001b[0m\n\u001b[0;32m      4\u001b[0m \u001b[38;5;66;03m# deleting a variable.   \u001b[39;00m\n\u001b[0;32m      5\u001b[0m \u001b[38;5;28;01mdel\u001b[39;00m x  \n\u001b[1;32m----> 6\u001b[0m \u001b[38;5;28mprint\u001b[39m(x)\n",
      "\u001b[1;31mNameError\u001b[0m: name 'x' is not defined"
     ]
    }
   ],
   "source": [
    "# Assigning a value to x  \n",
    "x = 6  \n",
    "print(x)  \n",
    "# deleting a variable.   \n",
    "del x  \n",
    "print(x)  "
   ]
  },
  {
   "cell_type": "code",
   "execution_count": 1,
   "id": "9a4dcecf-a70a-4a1c-b4b0-2f61e96fbd7c",
   "metadata": {},
   "outputs": [
    {
     "name": "stdout",
     "output_type": "stream",
     "text": [
      "2\n"
     ]
    }
   ],
   "source": [
    "print(2)"
   ]
  },
  {
   "cell_type": "code",
   "execution_count": 3,
   "id": "96ab65f2-2526-4adb-b176-483a0e2c9932",
   "metadata": {},
   "outputs": [
    {
     "name": "stdout",
     "output_type": "stream",
     "text": [
      "6\n"
     ]
    }
   ],
   "source": [
    "print(2+4)"
   ]
  },
  {
   "cell_type": "code",
   "execution_count": 5,
   "id": "987ed1d6-b6cc-41be-aae9-255fb9b52787",
   "metadata": {},
   "outputs": [
    {
     "name": "stdout",
     "output_type": "stream",
     "text": [
      "surya\n"
     ]
    }
   ],
   "source": [
    "print(\"surya\")"
   ]
  },
  {
   "cell_type": "code",
   "execution_count": 13,
   "id": "c0d0e130-4eac-437c-a895-92b65116c789",
   "metadata": {},
   "outputs": [
    {
     "name": "stdout",
     "output_type": "stream",
     "text": [
      "6\n"
     ]
    }
   ],
   "source": [
    "#add two number\n",
    "a=4\n",
    "b=2\n",
    "c=a+b\n",
    "print(c)"
   ]
  },
  {
   "cell_type": "code",
   "execution_count": 17,
   "id": "2f82fc7d-77b2-4b1d-a037-94c78500131f",
   "metadata": {},
   "outputs": [
    {
     "name": "stdout",
     "output_type": "stream",
     "text": [
      "10\n"
     ]
    }
   ],
   "source": [
    "a=10\n",
    "print(a)"
   ]
  },
  {
   "cell_type": "code",
   "execution_count": 23,
   "id": "2a4095a8-c071-414a-a936-f7d0bd2f18d1",
   "metadata": {},
   "outputs": [
    {
     "name": "stdout",
     "output_type": "stream",
     "text": [
      "30\n"
     ]
    }
   ],
   "source": [
    "a=10\n",
    "a=20\n",
    "a=30\n",
    "print(a)"
   ]
  },
  {
   "cell_type": "code",
   "execution_count": 27,
   "id": "9c50f3c7-78ed-4e8a-af43-ba137ba9b237",
   "metadata": {},
   "outputs": [],
   "source": [
    "a=10\n",
    "b=20\n",
    "c=a+b"
   ]
  },
  {
   "cell_type": "code",
   "execution_count": 29,
   "id": "b2f1fb1e-41e9-4621-8e61-d997f70017ce",
   "metadata": {},
   "outputs": [
    {
     "name": "stdout",
     "output_type": "stream",
     "text": [
      "30\n"
     ]
    }
   ],
   "source": [
    "print(c)"
   ]
  },
  {
   "cell_type": "code",
   "execution_count": 33,
   "id": "3a5043ed-b21b-4f8a-aeae-6ff0e06bb674",
   "metadata": {},
   "outputs": [],
   "source": [
    "Rahul=10\n",
    "rahul=20"
   ]
  },
  {
   "cell_type": "code",
   "execution_count": 35,
   "id": "97c0df43-5057-44f7-8984-aad87adf8e5f",
   "metadata": {},
   "outputs": [
    {
     "name": "stdout",
     "output_type": "stream",
     "text": [
      "10\n"
     ]
    }
   ],
   "source": [
    "print(Rahul)"
   ]
  },
  {
   "cell_type": "code",
   "execution_count": 37,
   "id": "e7418880-b713-4fa9-bb23-84ef794b5acf",
   "metadata": {},
   "outputs": [
    {
     "name": "stdout",
     "output_type": "stream",
     "text": [
      "20\n"
     ]
    }
   ],
   "source": [
    "print(rahul)"
   ]
  },
  {
   "cell_type": "code",
   "execution_count": 39,
   "id": "7db55c5d-216b-4595-a692-082d9d8fee82",
   "metadata": {},
   "outputs": [
    {
     "ename": "SyntaxError",
     "evalue": "invalid decimal literal (115390094.py, line 1)",
     "output_type": "error",
     "traceback": [
      "\u001b[1;36m  Cell \u001b[1;32mIn[39], line 1\u001b[1;36m\u001b[0m\n\u001b[1;33m    1a=2\u001b[0m\n\u001b[1;37m    ^\u001b[0m\n\u001b[1;31mSyntaxError\u001b[0m\u001b[1;31m:\u001b[0m invalid decimal literal\n"
     ]
    }
   ],
   "source": [
    "1a=2\n",
    "print(1a)"
   ]
  },
  {
   "cell_type": "code",
   "execution_count": 41,
   "id": "6ef3f4ea-cdfd-4086-b4f0-c5ae62df9eae",
   "metadata": {},
   "outputs": [
    {
     "ename": "SyntaxError",
     "evalue": "invalid syntax (1133711603.py, line 1)",
     "output_type": "error",
     "traceback": [
      "\u001b[1;36m  Cell \u001b[1;32mIn[41], line 1\u001b[1;36m\u001b[0m\n\u001b[1;33m    while=10\u001b[0m\n\u001b[1;37m         ^\u001b[0m\n\u001b[1;31mSyntaxError\u001b[0m\u001b[1;31m:\u001b[0m invalid syntax\n"
     ]
    }
   ],
   "source": [
    "while=10\n",
    "print(while)"
   ]
  },
  {
   "cell_type": "code",
   "execution_count": null,
   "id": "5cf09e81-9328-4e1f-99a7-b5f7e09a6b68",
   "metadata": {},
   "outputs": [],
   "source": []
  }
 ],
 "metadata": {
  "kernelspec": {
   "display_name": "Python 3 (ipykernel)",
   "language": "python",
   "name": "python3"
  },
  "language_info": {
   "codemirror_mode": {
    "name": "ipython",
    "version": 3
   },
   "file_extension": ".py",
   "mimetype": "text/x-python",
   "name": "python",
   "nbconvert_exporter": "python",
   "pygments_lexer": "ipython3",
   "version": "3.11.7"
  }
 },
 "nbformat": 4,
 "nbformat_minor": 5
}
